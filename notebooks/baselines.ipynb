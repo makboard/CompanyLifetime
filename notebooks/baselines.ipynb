{
 "cells": [
  {
   "cell_type": "code",
   "execution_count": 1,
   "metadata": {},
   "outputs": [],
   "source": [
    "import os\n",
    "import sys\n",
    "import warnings\n",
    "\n",
    "sys.path.append(\"..\")\n",
    "\n",
    "from src.pickle_manager import open_pickle\n",
    "from src.regression_models import metrics_print\n",
    "from src.classification_models import classification_metrics_print\n",
    "\n",
    "warnings.simplefilter(action=\"ignore\", category=FutureWarning)"
   ]
  },
  {
   "cell_type": "code",
   "execution_count": 2,
   "metadata": {},
   "outputs": [],
   "source": [
    "data = open_pickle(os.path.join(\"..\", \"data\", \"pkls\"), \"processed_dataset_regression_first_year.pkl\")\n",
    "X_train, X_test, y_train, y_test = (\n",
    "    data[0],\n",
    "    data[1],\n",
    "    data[2],\n",
    "    data[3],\n",
    ")\n",
    "X_train[\"lifetime\"] = y_train.values\n",
    "X_test[\"lifetime\"] = y_test.values"
   ]
  },
  {
   "cell_type": "code",
   "execution_count": 3,
   "metadata": {},
   "outputs": [],
   "source": [
    "# Объединяем обратно закодированные признаки\n",
    "def reverse_one_hot(df, prefix):\n",
    "    filtered_cols = df.filter(like=prefix)\n",
    "    max_cols = filtered_cols.idxmax(axis=1)\n",
    "    return max_cols.apply(lambda x: x.replace(prefix + \"_\", \"\"))\n",
    "\n",
    "\n",
    "for prefix in [\"Основной вид деятельности\", \"Регион\"]:\n",
    "    X_train[prefix] = reverse_one_hot(X_train, prefix)\n",
    "    X_test[prefix] = reverse_one_hot(X_test, prefix)"
   ]
  },
  {
   "cell_type": "markdown",
   "metadata": {},
   "source": [
    "## Регрессия"
   ]
  },
  {
   "cell_type": "code",
   "execution_count": 5,
   "metadata": {},
   "outputs": [],
   "source": [
    "# Группировка на основе 'Тип субъекта', 'Основной вид деятельности', 'Регион'\n",
    "pred_df = X_train.groupby([\"Тип субъекта\", \"Основной вид деятельности\", \"Регион\"])[\n",
    "    \"lifetime\"\n",
    "].aggregate([\"min\", \"mean\", \"max\"])\n",
    "constant_value = X_train.lifetime.mean()\n",
    "\n",
    "\n",
    "def get_prediction(x, pred_df, constant_value):\n",
    "    try:\n",
    "        return pred_df.loc[\n",
    "            (x[\"Тип субъекта\"], x[\"Основной вид деятельности\"], x[\"Регион\"]), \"mean\"\n",
    "        ]\n",
    "    except KeyError:\n",
    "        return constant_value\n",
    "\n",
    "\n",
    "# Получим предсказание\n",
    "y_pred_train = X_train.apply(\n",
    "    lambda x: get_prediction(x, pred_df, constant_value), axis=1\n",
    ")\n",
    "y_pred_test = X_test.apply(lambda x: get_prediction(x, pred_df, constant_value), axis=1)"
   ]
  },
  {
   "cell_type": "code",
   "execution_count": 6,
   "metadata": {},
   "outputs": [
    {
     "name": "stdout",
     "output_type": "stream",
     "text": [
      "Train \n",
      "r2 score: 0.13698933606905472\n",
      "MAE: 41.47056368836765\n",
      "RMSE: 52.981976655735615\n",
      "Test \n",
      "r2 score: 0.13208774454647154\n",
      "MAE: 41.62097158490592\n",
      "RMSE: 53.1813228721454\n"
     ]
    },
    {
     "data": {
      "text/plain": [
       "{'baseline': {'train': {'r2': 0.13698933606905472,\n",
       "   'mae': 41.47056368836765,\n",
       "   'rmse': 52.981976655735615},\n",
       "  'test': {'r2': 0.13208774454647154,\n",
       "   'mae': 41.62097158490592,\n",
       "   'rmse': 53.1813228721454}}}"
      ]
     },
     "execution_count": 6,
     "metadata": {},
     "output_type": "execute_result"
    }
   ],
   "source": [
    "metrics_dict = dict()\n",
    "metrics_print(\n",
    "    X_train[\"lifetime\"],\n",
    "    y_pred_train,\n",
    "    X_test[\"lifetime\"],\n",
    "    y_pred_test,\n",
    "    metrics_dict,\n",
    "    \"baseline\",\n",
    ")"
   ]
  },
  {
   "cell_type": "markdown",
   "metadata": {},
   "source": [
    "## Классификация"
   ]
  },
  {
   "cell_type": "code",
   "execution_count": 7,
   "metadata": {},
   "outputs": [],
   "source": [
    "def classify_lifetime(lifetime):\n",
    "    if lifetime <= 24:\n",
    "        return 0\n",
    "    elif 24 < lifetime <= 120:\n",
    "        return 1\n",
    "    elif lifetime > 120:\n",
    "        return 2"
   ]
  },
  {
   "cell_type": "code",
   "execution_count": 8,
   "metadata": {},
   "outputs": [],
   "source": [
    "X_train[\"lifetime\"] = X_train[\"lifetime\"].apply(classify_lifetime)\n",
    "X_test[\"lifetime\"] = X_test[\"lifetime\"].apply(classify_lifetime)"
   ]
  },
  {
   "cell_type": "code",
   "execution_count": 9,
   "metadata": {},
   "outputs": [],
   "source": [
    "# Группировка на основе 'Тип субъекта', 'Основной вид деятельности', 'Регион'\n",
    "mode_df = X_train.groupby([\"Тип субъекта\", \"Основной вид деятельности\", \"Регион\"])[\n",
    "    \"lifetime\"\n",
    "].agg(lambda x: x.mode()[0])\n",
    "default_value = X_train[\"lifetime\"].mode()[0]\n",
    "\n",
    "\n",
    "def get_prediction_classification(x):\n",
    "    try:\n",
    "        return mode_df.loc[\n",
    "            (x[\"Тип субъекта\"], x[\"Основной вид деятельности\"], x[\"Регион\"])\n",
    "        ]\n",
    "    except KeyError:\n",
    "        return default_value\n",
    "\n",
    "\n",
    "# Получим предсказание\n",
    "y_pred_train = X_train.apply(get_prediction_classification, axis=1)\n",
    "y_pred_test = X_test.apply(get_prediction_classification, axis=1)"
   ]
  },
  {
   "cell_type": "code",
   "execution_count": 10,
   "metadata": {},
   "outputs": [
    {
     "name": "stdout",
     "output_type": "stream",
     "text": [
      "Train \n",
      "Accuracy: 0.5444169054527875\n",
      "Precision: 0.5459237018083843\n",
      "Recall: 0.5444169054527875\n",
      "F1 Score: 0.5029948398551273\n",
      "Test \n",
      "Accuracy: 0.5411402438696711\n",
      "Precision: 0.5369373194007406\n",
      "Recall: 0.5411402438696711\n",
      "F1 Score: 0.49928618965770927\n"
     ]
    },
    {
     "data": {
      "text/plain": [
       "{'baseline': {'train': {'accuracy': 0.5444169054527875,\n",
       "   'precision': 0.5459237018083843,\n",
       "   'recall': 0.5444169054527875,\n",
       "   'f1': 0.5029948398551273},\n",
       "  'test': {'accuracy': 0.5411402438696711,\n",
       "   'precision': 0.5369373194007406,\n",
       "   'recall': 0.5411402438696711,\n",
       "   'f1': 0.49928618965770927}}}"
      ]
     },
     "execution_count": 10,
     "metadata": {},
     "output_type": "execute_result"
    }
   ],
   "source": [
    "metrics_dict_classification = dict()\n",
    "classification_metrics_print(\n",
    "    X_train[\"lifetime\"],\n",
    "    y_pred_train,\n",
    "    X_test[\"lifetime\"],\n",
    "    y_pred_test,\n",
    "    metrics_dict_classification,\n",
    "    \"baseline\",\n",
    ")"
   ]
  }
 ],
 "metadata": {
  "kernelspec": {
   "display_name": "stat_env",
   "language": "python",
   "name": "python3"
  },
  "language_info": {
   "codemirror_mode": {
    "name": "ipython",
    "version": 3
   },
   "file_extension": ".py",
   "mimetype": "text/x-python",
   "name": "python",
   "nbconvert_exporter": "python",
   "pygments_lexer": "ipython3",
   "version": "3.11.5"
  }
 },
 "nbformat": 4,
 "nbformat_minor": 2
}
