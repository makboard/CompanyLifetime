{
 "cells": [
  {
   "cell_type": "code",
   "execution_count": 1,
   "metadata": {},
   "outputs": [],
   "source": [
    "import os\n",
    "import sys\n",
    "import warnings\n",
    "\n",
    "sys.path.append(\"..\")\n",
    "\n",
    "from src.pickle_manager import open_pickle\n",
    "from src.regression_models import metrics_print\n",
    "from src.classification_models import classification_metrics_print\n",
    "\n",
    "warnings.simplefilter(action=\"ignore\", category=FutureWarning)"
   ]
  },
  {
   "cell_type": "code",
   "execution_count": 2,
   "metadata": {},
   "outputs": [],
   "source": [
    "data = open_pickle(os.path.join(\"..\", \"data\", \"pkls\"), \"processed_dataset.pkl\")\n",
    "X_train, X_test, y_train, y_test = (\n",
    "    data[\"X_train\"],\n",
    "    data[\"X_test\"],\n",
    "    data[\"y_train\"],\n",
    "    data[\"y_test\"],\n",
    ")\n",
    "X_train[\"lifetime\"] = y_train\n",
    "X_test[\"lifetime\"] = y_test"
   ]
  },
  {
   "cell_type": "code",
   "execution_count": 3,
   "metadata": {},
   "outputs": [],
   "source": [
    "# Объединяем обратно закодированные признаки\n",
    "def reverse_one_hot(df, prefix):\n",
    "    filtered_cols = df.filter(like=prefix)\n",
    "    max_cols = filtered_cols.idxmax(axis=1)\n",
    "    return max_cols.apply(lambda x: x.replace(prefix + \"_\", \"\"))\n",
    "\n",
    "\n",
    "for prefix in [\"Основной вид деятельности\", \"Регион\"]:\n",
    "    X_train[prefix] = reverse_one_hot(X_train, prefix)\n",
    "    X_test[prefix] = reverse_one_hot(X_test, prefix)"
   ]
  },
  {
   "cell_type": "markdown",
   "metadata": {},
   "source": [
    "## Регрессия"
   ]
  },
  {
   "cell_type": "code",
   "execution_count": 4,
   "metadata": {},
   "outputs": [],
   "source": [
    "# Группировка на основе 'Тип субъекта', 'Основной вид деятельности', 'Регион'\n",
    "pred_df = X_train.groupby([\"Тип субъекта\", \"Основной вид деятельности\", \"Регион\"])[\n",
    "    \"lifetime\"\n",
    "].aggregate([\"min\", \"mean\", \"max\"])\n",
    "constant_value = X_train.lifetime.mean()\n",
    "\n",
    "\n",
    "def get_prediction(x, pred_df, constant_value):\n",
    "    try:\n",
    "        return pred_df.loc[\n",
    "            (x[\"Тип субъекта\"], x[\"Основной вид деятельности\"], x[\"Регион\"]), \"mean\"\n",
    "        ]\n",
    "    except KeyError:\n",
    "        return constant_value\n",
    "\n",
    "\n",
    "# Получим предсказание\n",
    "y_pred_train = X_train.apply(\n",
    "    lambda x: get_prediction(x, pred_df, constant_value), axis=1\n",
    ")\n",
    "y_pred_test = X_test.apply(lambda x: get_prediction(x, pred_df, constant_value), axis=1)"
   ]
  },
  {
   "cell_type": "code",
   "execution_count": 5,
   "metadata": {},
   "outputs": [
    {
     "name": "stdout",
     "output_type": "stream",
     "text": [
      "Train \n",
      "r2 score: 0.13701415847510268\n",
      "MAE: 41.458226551106925\n",
      "RMSE: 52.977589657456726\n",
      "Test \n",
      "r2 score: 0.13206008322036067\n",
      "MAE: 41.64982747703339\n",
      "RMSE: 53.19466428984099\n"
     ]
    },
    {
     "data": {
      "text/plain": [
       "{'baseline': {'train': {'r2': 0.13701415847510268,\n",
       "   'mae': 41.458226551106925,\n",
       "   'rmse': 52.977589657456726},\n",
       "  'test': {'r2': 0.13206008322036067,\n",
       "   'mae': 41.64982747703339,\n",
       "   'rmse': 53.19466428984099}}}"
      ]
     },
     "execution_count": 5,
     "metadata": {},
     "output_type": "execute_result"
    }
   ],
   "source": [
    "metrics_dict = dict()\n",
    "metrics_print(\n",
    "    X_train[\"lifetime\"],\n",
    "    y_pred_train,\n",
    "    X_test[\"lifetime\"],\n",
    "    y_pred_test,\n",
    "    metrics_dict,\n",
    "    \"baseline\",\n",
    ")"
   ]
  },
  {
   "cell_type": "markdown",
   "metadata": {},
   "source": [
    "## Классификация"
   ]
  },
  {
   "cell_type": "code",
   "execution_count": 6,
   "metadata": {},
   "outputs": [],
   "source": [
    "def classify_lifetime(lifetime):\n",
    "    if lifetime <= 12:\n",
    "        return 0\n",
    "    elif 12 < lifetime <= 24:\n",
    "        return 1\n",
    "    elif 24 < lifetime <= 48:\n",
    "        return 2\n",
    "    elif 48 < lifetime <= 120:\n",
    "        return 3\n",
    "    elif lifetime > 120:\n",
    "        return 4"
   ]
  },
  {
   "cell_type": "code",
   "execution_count": 7,
   "metadata": {},
   "outputs": [],
   "source": [
    "X_train[\"lifetime\"] = X_train[\"lifetime\"].apply(classify_lifetime)\n",
    "X_test[\"lifetime\"] = X_test[\"lifetime\"].apply(classify_lifetime)"
   ]
  },
  {
   "cell_type": "code",
   "execution_count": 8,
   "metadata": {},
   "outputs": [],
   "source": [
    "# Группировка на основе 'Тип субъекта', 'Основной вид деятельности', 'Регион'\n",
    "mode_df = X_train.groupby([\"Тип субъекта\", \"Основной вид деятельности\", \"Регион\"])[\n",
    "    \"lifetime\"\n",
    "].agg(lambda x: x.mode()[0])\n",
    "default_value = X_train[\"lifetime\"].mode()[0]\n",
    "\n",
    "\n",
    "def get_prediction_classification(x):\n",
    "    try:\n",
    "        return mode_df.loc[\n",
    "            (x[\"Тип субъекта\"], x[\"Основной вид деятельности\"], x[\"Регион\"])\n",
    "        ]\n",
    "    except KeyError:\n",
    "        return default_value\n",
    "\n",
    "\n",
    "# Получим предсказание\n",
    "y_pred_train = X_train.apply(get_prediction_classification, axis=1)\n",
    "y_pred_test = X_test.apply(get_prediction_classification, axis=1)"
   ]
  },
  {
   "cell_type": "code",
   "execution_count": 9,
   "metadata": {},
   "outputs": [
    {
     "name": "stdout",
     "output_type": "stream",
     "text": [
      "Train \n",
      "Accuracy: 0.3232137630455634\n",
      "Precision: 0.3235301504942581\n",
      "Recall: 0.3232137630455634\n",
      "F1 Score: 0.31537628496520337\n",
      "Test \n",
      "Accuracy: 0.31690989938657343\n",
      "Precision: 0.316719879017582\n",
      "Recall: 0.31690989938657343\n",
      "F1 Score: 0.3090081752079128\n"
     ]
    },
    {
     "data": {
      "text/plain": [
       "{'baseline': {'train': {'accuracy': 0.3232137630455634,\n",
       "   'precision': 0.3235301504942581,\n",
       "   'recall': 0.3232137630455634,\n",
       "   'f1': 0.31537628496520337},\n",
       "  'test': {'accuracy': 0.31690989938657343,\n",
       "   'precision': 0.316719879017582,\n",
       "   'recall': 0.31690989938657343,\n",
       "   'f1': 0.3090081752079128}}}"
      ]
     },
     "execution_count": 9,
     "metadata": {},
     "output_type": "execute_result"
    }
   ],
   "source": [
    "metrics_dict_classification = dict()\n",
    "classification_metrics_print(\n",
    "    X_train[\"lifetime\"],\n",
    "    y_pred_train,\n",
    "    X_test[\"lifetime\"],\n",
    "    y_pred_test,\n",
    "    metrics_dict_classification,\n",
    "    \"baseline\",\n",
    ")"
   ]
  }
 ],
 "metadata": {
  "kernelspec": {
   "display_name": "stat_env",
   "language": "python",
   "name": "python3"
  },
  "language_info": {
   "codemirror_mode": {
    "name": "ipython",
    "version": 3
   },
   "file_extension": ".py",
   "mimetype": "text/x-python",
   "name": "python",
   "nbconvert_exporter": "python",
   "pygments_lexer": "ipython3",
   "version": "3.11.5"
  }
 },
 "nbformat": 4,
 "nbformat_minor": 2
}
