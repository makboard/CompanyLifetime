{
 "cells": [
  {
   "cell_type": "code",
   "execution_count": 1,
   "metadata": {},
   "outputs": [],
   "source": [
    "import os\n",
    "import sys\n",
    "import warnings\n",
    "\n",
    "import numpy as np\n",
    "import pandas as pd\n",
    "import matplotlib.pyplot as plt\n",
    "import seaborn as sns\n",
    "from datetime import datetime\n",
    "from tqdm import tqdm\n",
    "from sklearn.metrics import classification_report, confusion_matrix\n",
    "\n",
    "sys.path.append(\"..\")\n",
    "\n",
    "from src.pickle_manager import open_parquet\n",
    "from src.evaluation import plot_confusion_matrix\n",
    "\n",
    "warnings.simplefilter(action=\"ignore\", category=FutureWarning)"
   ]
  },
  {
   "cell_type": "code",
   "execution_count": 2,
   "metadata": {},
   "outputs": [],
   "source": [
    "def get_date(reg_date: pd.Timestamp, ogrn: int, msp_date: pd.Timestamp) -> pd.Timestamp:\n",
    "    \"\"\"Apply reg_date using year calculated from ogrn\"\"\"\n",
    "    if pd.isnull(reg_date) and msp_date == datetime.datetime(2016, 8, 1):\n",
    "        reg_date = datetime.datetime(int(\"20\" + str(ogrn)[1:3]), 8, 10)\n",
    "    elif pd.isnull(reg_date) and msp_date != datetime.datetime(2016, 8, 1):\n",
    "        reg_date = msp_date\n",
    "    return reg_date"
   ]
  },
  {
   "cell_type": "code",
   "execution_count": 3,
   "metadata": {},
   "outputs": [],
   "source": [
    "def classify_lifetime(lifetime):\n",
    "    \"\"\"Classify lifetime into categories.\"\"\"\n",
    "    if lifetime <= 24:\n",
    "        return 0\n",
    "    elif 24 < lifetime <= 120:\n",
    "        return 1\n",
    "    elif lifetime > 120:\n",
    "        return 2"
   ]
  },
  {
   "cell_type": "code",
   "execution_count": 4,
   "metadata": {},
   "outputs": [],
   "source": [
    "def inverse_classify_lifetime(category: int):\n",
    "    \"\"\"Return the range of lifetimes for a given category.\"\"\"\n",
    "    if category == 0:\n",
    "        return 24\n",
    "    elif category == 1:\n",
    "        return 120\n",
    "    elif category == 2:\n",
    "        return float('inf')\n",
    "    else:\n",
    "        return None"
   ]
  },
  {
   "cell_type": "code",
   "execution_count": 5,
   "metadata": {},
   "outputs": [],
   "source": [
    "init_data = open_parquet(\"../data/parquet\", \"companies_feat_open.parquet\")\n",
    "predictions_classification = open_parquet(\"../results\", \"predicts_2023-12-13_07-28-07.parquet\")\n",
    "predictions_regression = open_parquet(\"../results\", \"predicts_2023-12-13_07-14-04.parquet\")"
   ]
  },
  {
   "cell_type": "code",
   "execution_count": 6,
   "metadata": {},
   "outputs": [
    {
     "name": "stderr",
     "output_type": "stream",
     "text": [
      "100%|██████████| 5748961/5748961 [02:05<00:00, 45914.00it/s] \n"
     ]
    }
   ],
   "source": [
    "tqdm.pandas()\n",
    "init_data[\"reg_date\"] = init_data.progress_apply(\n",
    "    lambda row: get_date(row[\"reg_date\"], row[\"ОГРН\"], row[\"Дата включения в реестр\"]),\n",
    "    axis=1,\n",
    ")"
   ]
  },
  {
   "cell_type": "code",
   "execution_count": 9,
   "metadata": {},
   "outputs": [],
   "source": [
    "init_data[\"current_lifetime\"] = (\n",
    "    datetime.now().year - init_data[\"reg_date\"].dt.year\n",
    ") * 12 + (datetime.now().month - init_data[\"reg_date\"].dt.month)"
   ]
  },
  {
   "cell_type": "code",
   "execution_count": 10,
   "metadata": {},
   "outputs": [],
   "source": [
    "max_trained_llifetime = (datetime.now().year - 2000) * 12 + datetime.now().month - 1"
   ]
  },
  {
   "cell_type": "code",
   "execution_count": 11,
   "metadata": {},
   "outputs": [],
   "source": [
    "init_data = init_data[init_data[\"current_lifetime\"] < max_trained_llifetime]"
   ]
  },
  {
   "cell_type": "code",
   "execution_count": 12,
   "metadata": {},
   "outputs": [],
   "source": [
    "init_data = init_data[[\"ОГРН\", \"current_lifetime\"]]"
   ]
  },
  {
   "cell_type": "code",
   "execution_count": 34,
   "metadata": {},
   "outputs": [],
   "source": [
    "predictions_classification = pd.merge(\n",
    "    left=init_data, right=predictions_classification, how=\"inner\", left_on=\"ОГРН\", right_on=\"ogrn\"\n",
    ")\n",
    "predictions_regression = pd.merge(\n",
    "    left=init_data, right=predictions_regression, how=\"inner\", left_on=\"ОГРН\", right_on=\"ogrn\"\n",
    ")"
   ]
  },
  {
   "cell_type": "markdown",
   "metadata": {},
   "source": [
    "### Regression"
   ]
  },
  {
   "cell_type": "code",
   "execution_count": 35,
   "metadata": {},
   "outputs": [
    {
     "data": {
      "text/html": [
       "<div>\n",
       "<style scoped>\n",
       "    .dataframe tbody tr th:only-of-type {\n",
       "        vertical-align: middle;\n",
       "    }\n",
       "\n",
       "    .dataframe tbody tr th {\n",
       "        vertical-align: top;\n",
       "    }\n",
       "\n",
       "    .dataframe thead th {\n",
       "        text-align: right;\n",
       "    }\n",
       "</style>\n",
       "<table border=\"1\" class=\"dataframe\">\n",
       "  <thead>\n",
       "    <tr style=\"text-align: right;\">\n",
       "      <th></th>\n",
       "      <th>current_lifetime</th>\n",
       "      <th>ogrn</th>\n",
       "      <th>Predicted Lifetime</th>\n",
       "      <th>Standard Deviation</th>\n",
       "    </tr>\n",
       "  </thead>\n",
       "  <tbody>\n",
       "    <tr>\n",
       "      <th>0</th>\n",
       "      <td>9</td>\n",
       "      <td>1233400001570</td>\n",
       "      <td>31.233853</td>\n",
       "      <td>1.662201</td>\n",
       "    </tr>\n",
       "    <tr>\n",
       "      <th>1</th>\n",
       "      <td>9</td>\n",
       "      <td>1236900001084</td>\n",
       "      <td>29.044421</td>\n",
       "      <td>1.590546</td>\n",
       "    </tr>\n",
       "    <tr>\n",
       "      <th>2</th>\n",
       "      <td>9</td>\n",
       "      <td>1237700112792</td>\n",
       "      <td>32.322319</td>\n",
       "      <td>1.971584</td>\n",
       "    </tr>\n",
       "    <tr>\n",
       "      <th>3</th>\n",
       "      <td>9</td>\n",
       "      <td>1232800000850</td>\n",
       "      <td>31.841784</td>\n",
       "      <td>2.136221</td>\n",
       "    </tr>\n",
       "    <tr>\n",
       "      <th>4</th>\n",
       "      <td>9</td>\n",
       "      <td>1236900001062</td>\n",
       "      <td>28.797285</td>\n",
       "      <td>1.466352</td>\n",
       "    </tr>\n",
       "  </tbody>\n",
       "</table>\n",
       "</div>"
      ],
      "text/plain": [
       "   current_lifetime           ogrn  Predicted Lifetime  Standard Deviation\n",
       "0                 9  1233400001570           31.233853            1.662201\n",
       "1                 9  1236900001084           29.044421            1.590546\n",
       "2                 9  1237700112792           32.322319            1.971584\n",
       "3                 9  1232800000850           31.841784            2.136221\n",
       "4                 9  1236900001062           28.797285            1.466352"
      ]
     },
     "execution_count": 35,
     "metadata": {},
     "output_type": "execute_result"
    }
   ],
   "source": [
    "predictions_regression.drop(columns=[\"ОГРН\"], inplace=True, errors=\"ignore\")\n",
    "predictions_regression.head()"
   ]
  },
  {
   "cell_type": "code",
   "execution_count": 40,
   "metadata": {},
   "outputs": [
    {
     "data": {
      "text/plain": [
       "0.14062431509303602"
      ]
     },
     "execution_count": 40,
     "metadata": {},
     "output_type": "execute_result"
    }
   ],
   "source": [
    "sum(predictions_regression[\"Predicted Lifetime\"] > predictions_regression[\"current_lifetime\"]) / predictions_regression.shape[0]"
   ]
  },
  {
   "cell_type": "code",
   "execution_count": 22,
   "metadata": {},
   "outputs": [],
   "source": [
    "y_hat = predictions_regression[\"Predicted Lifetime\"]\n",
    "y  = predictions_regression[\"current_lifetime\"]"
   ]
  },
  {
   "cell_type": "code",
   "execution_count": null,
   "metadata": {},
   "outputs": [],
   "source": [
    "# Apply binary classification\n",
    "mask_greater = y_hat >= y\n",
    "mask_lesser = y_hat < y\n",
    "\n",
    "y_hat[mask_greater] = 1\n",
    "y[mask_greater] = 1\n",
    "\n",
    "y_hat[mask_lesser] = 0\n",
    "y[mask_lesser] = 1"
   ]
  },
  {
   "cell_type": "code",
   "execution_count": 24,
   "metadata": {},
   "outputs": [
    {
     "name": "stderr",
     "output_type": "stream",
     "text": [
      "/opt/conda/envs/stat_env/lib/python3.11/site-packages/sklearn/metrics/_classification.py:1344: UndefinedMetricWarning: Recall and F-score are ill-defined and being set to 0.0 in labels with no true samples. Use `zero_division` parameter to control this behavior.\n",
      "  _warn_prf(average, modifier, msg_start, len(result))\n",
      "/opt/conda/envs/stat_env/lib/python3.11/site-packages/sklearn/metrics/_classification.py:1344: UndefinedMetricWarning: Recall and F-score are ill-defined and being set to 0.0 in labels with no true samples. Use `zero_division` parameter to control this behavior.\n",
      "  _warn_prf(average, modifier, msg_start, len(result))\n",
      "/opt/conda/envs/stat_env/lib/python3.11/site-packages/sklearn/metrics/_classification.py:1344: UndefinedMetricWarning: Recall and F-score are ill-defined and being set to 0.0 in labels with no true samples. Use `zero_division` parameter to control this behavior.\n",
      "  _warn_prf(average, modifier, msg_start, len(result))\n"
     ]
    },
    {
     "name": "stdout",
     "output_type": "stream",
     "text": [
      "              precision    recall  f1-score   support\n",
      "\n",
      "         0.0       0.00      0.00      0.00         0\n",
      "         1.0       1.00      0.14      0.25   5748956\n",
      "\n",
      "    accuracy                           0.14   5748956\n",
      "   macro avg       0.50      0.07      0.12   5748956\n",
      "weighted avg       1.00      0.14      0.25   5748956\n",
      "\n"
     ]
    },
    {
     "data": {
      "image/png": "[encoded data removed]",
      "text/plain": [
       "<Figure size 1000x700 with 2 Axes>"
      ]
     },
     "metadata": {},
     "output_type": "display_data"
    }
   ],
   "source": [
    "print(classification_report(y, y_hat))\n",
    "\n",
    "binary_conf_mat  = confusion_matrix(y, y_hat)\n",
    "\n",
    "\n",
    "plt.figure(figsize=(10, 7))\n",
    "sns.heatmap(binary_conf_mat , annot=True, fmt='g', cmap='Blues')\n",
    "plt.title(\"Class Confusion Matrix\")\n",
    "plt.xlabel(\"Predicted Label\")\n",
    "plt.ylabel(\"True Label\")\n",
    "\n",
    "\n",
    "ax = plt.gca()  \n",
    "for i in range(binary_conf_mat.shape[0]):\n",
    "    for j in range(binary_conf_mat.shape[1]):\n",
    "        text = format(binary_conf_mat [i, j], 'd')\n",
    "        ax.text(j+0.5, i+0.5, text, ha=\"center\", va=\"center\", \n",
    "                color=\"white\" if binary_conf_mat [i, j] > binary_conf_mat .max() / 2 else \"black\")\n",
    "\n",
    "plt.show()"
   ]
  },
  {
   "cell_type": "markdown",
   "metadata": {},
   "source": [
    "### Classification"
   ]
  },
  {
   "cell_type": "code",
   "execution_count": 12,
   "metadata": {},
   "outputs": [
    {
     "data": {
      "text/html": [
       "<div>\n",
       "<style scoped>\n",
       "    .dataframe tbody tr th:only-of-type {\n",
       "        vertical-align: middle;\n",
       "    }\n",
       "\n",
       "    .dataframe tbody tr th {\n",
       "        vertical-align: top;\n",
       "    }\n",
       "\n",
       "    .dataframe thead th {\n",
       "        text-align: right;\n",
       "    }\n",
       "</style>\n",
       "<table border=\"1\" class=\"dataframe\">\n",
       "  <thead>\n",
       "    <tr style=\"text-align: right;\">\n",
       "      <th></th>\n",
       "      <th>current_lifetime</th>\n",
       "      <th>OGRN</th>\n",
       "      <th>Predicted Class</th>\n",
       "      <th>Probabilities</th>\n",
       "    </tr>\n",
       "  </thead>\n",
       "  <tbody>\n",
       "    <tr>\n",
       "      <th>0</th>\n",
       "      <td>8</td>\n",
       "      <td>1233400001570</td>\n",
       "      <td>0</td>\n",
       "      <td>0.99, 0.01, 0.00</td>\n",
       "    </tr>\n",
       "    <tr>\n",
       "      <th>1</th>\n",
       "      <td>8</td>\n",
       "      <td>1236900001084</td>\n",
       "      <td>0</td>\n",
       "      <td>0.98, 0.02, 0.00</td>\n",
       "    </tr>\n",
       "    <tr>\n",
       "      <th>2</th>\n",
       "      <td>8</td>\n",
       "      <td>1237700112792</td>\n",
       "      <td>0</td>\n",
       "      <td>0.93, 0.07, 0.00</td>\n",
       "    </tr>\n",
       "    <tr>\n",
       "      <th>3</th>\n",
       "      <td>8</td>\n",
       "      <td>1232800000850</td>\n",
       "      <td>0</td>\n",
       "      <td>0.96, 0.04, 0.00</td>\n",
       "    </tr>\n",
       "    <tr>\n",
       "      <th>4</th>\n",
       "      <td>8</td>\n",
       "      <td>1236900001062</td>\n",
       "      <td>0</td>\n",
       "      <td>0.99, 0.01, 0.00</td>\n",
       "    </tr>\n",
       "  </tbody>\n",
       "</table>\n",
       "</div>"
      ],
      "text/plain": [
       "   current_lifetime           OGRN  Predicted Class     Probabilities\n",
       "0                 8  1233400001570                0  0.99, 0.01, 0.00\n",
       "1                 8  1236900001084                0  0.98, 0.02, 0.00\n",
       "2                 8  1237700112792                0  0.93, 0.07, 0.00\n",
       "3                 8  1232800000850                0  0.96, 0.04, 0.00\n",
       "4                 8  1236900001062                0  0.99, 0.01, 0.00"
      ]
     },
     "execution_count": 12,
     "metadata": {},
     "output_type": "execute_result"
    }
   ],
   "source": [
    "predictions_classification.drop(columns=[\"ОГРН\"], inplace=True, errors=\"ignore\")\n",
    "predictions_classification.head()"
   ]
  },
  {
   "cell_type": "code",
   "execution_count": 16,
   "metadata": {},
   "outputs": [],
   "source": [
    "predictions_classification[\"current_lifetime_classes\"] = predictions_classification[\"current_lifetime\"].apply(\n",
    "    classify_lifetime\n",
    ")\n",
    "predictions_classification[\"predicted_lifetime_min\"] = predictions_classification[\"Predicted Class\"].apply(\n",
    "    inverse_classify_lifetime\n",
    ")"
   ]
  },
  {
   "cell_type": "code",
   "execution_count": 17,
   "metadata": {},
   "outputs": [],
   "source": [
    "y_hat_classes = predictions_classification[\"Predicted Class\"]\n",
    "y_classes  = predictions_classification[\"current_lifetime_classes\"]\n",
    "y_hat = predictions_classification[\"predicted_lifetime_min\"]\n",
    "y  = predictions_classification[\"current_lifetime\"]"
   ]
  },
  {
   "cell_type": "code",
   "execution_count": null,
   "metadata": {},
   "outputs": [],
   "source": [
    "# Apply binary classification\n",
    "mask_greater = y_hat >= y\n",
    "mask_lesser = y_hat < y\n",
    "\n",
    "y_hat[mask_greater] = 1\n",
    "y[mask_greater] = 1\n",
    "\n",
    "y_hat[mask_lesser] = 0\n",
    "y[mask_lesser] = 1"
   ]
  },
  {
   "cell_type": "code",
   "execution_count": 19,
   "metadata": {},
   "outputs": [
    {
     "name": "stdout",
     "output_type": "stream",
     "text": [
      "              precision    recall  f1-score   support\n",
      "\n",
      "           0       0.33      0.72      0.45   1247125\n",
      "           1       0.52      0.36      0.42   2868081\n",
      "           2       0.91      0.60      0.72   1633750\n",
      "\n",
      "    accuracy                           0.50   5748956\n",
      "   macro avg       0.59      0.56      0.53   5748956\n",
      "weighted avg       0.59      0.50      0.52   5748956\n",
      "\n"
     ]
    },
    {
     "data": {
      "image/png": "[encoded data removed]",
      "text/plain": [
       "<Figure size 1000x700 with 2 Axes>"
      ]
     },
     "metadata": {},
     "output_type": "display_data"
    }
   ],
   "source": [
    "print(classification_report(y_classes, y_hat_classes))\n",
    "\n",
    "class_conf_mat = confusion_matrix(y_classes, y_hat_classes)\n",
    "\n",
    "\n",
    "plt.figure(figsize=(10, 7))\n",
    "sns.heatmap(class_conf_mat, annot=True, fmt='g', cmap='Blues')\n",
    "plt.title(\"Class Confusion Matrix\")\n",
    "plt.xlabel(\"Predicted Label\")\n",
    "plt.ylabel(\"True Label\")\n",
    "\n",
    "\n",
    "ax = plt.gca()  \n",
    "for i in range(class_conf_mat.shape[0]):\n",
    "    for j in range(class_conf_mat.shape[1]):\n",
    "        text = format(class_conf_mat[i, j], 'd')\n",
    "        ax.text(j+0.5, i+0.5, text, ha=\"center\", va=\"center\", \n",
    "                color=\"white\" if class_conf_mat[i, j] > class_conf_mat.max() / 2 else \"black\")\n",
    "\n",
    "plt.show()"
   ]
  },
  {
   "cell_type": "code",
   "execution_count": 20,
   "metadata": {},
   "outputs": [
    {
     "name": "stderr",
     "output_type": "stream",
     "text": [
      "/opt/conda/envs/stat_env/lib/python3.11/site-packages/sklearn/metrics/_classification.py:1344: UndefinedMetricWarning: Recall and F-score are ill-defined and being set to 0.0 in labels with no true samples. Use `zero_division` parameter to control this behavior.\n",
      "  _warn_prf(average, modifier, msg_start, len(result))\n",
      "/opt/conda/envs/stat_env/lib/python3.11/site-packages/sklearn/metrics/_classification.py:1344: UndefinedMetricWarning: Recall and F-score are ill-defined and being set to 0.0 in labels with no true samples. Use `zero_division` parameter to control this behavior.\n",
      "  _warn_prf(average, modifier, msg_start, len(result))\n",
      "/opt/conda/envs/stat_env/lib/python3.11/site-packages/sklearn/metrics/_classification.py:1344: UndefinedMetricWarning: Recall and F-score are ill-defined and being set to 0.0 in labels with no true samples. Use `zero_division` parameter to control this behavior.\n",
      "  _warn_prf(average, modifier, msg_start, len(result))\n"
     ]
    },
    {
     "name": "stdout",
     "output_type": "stream",
     "text": [
      "              precision    recall  f1-score   support\n",
      "\n",
      "         0.0       0.00      0.00      0.00         0\n",
      "         1.0       1.00      0.57      0.73   5748956\n",
      "\n",
      "    accuracy                           0.57   5748956\n",
      "   macro avg       0.50      0.29      0.36   5748956\n",
      "weighted avg       1.00      0.57      0.73   5748956\n",
      "\n"
     ]
    },
    {
     "data": {
      "image/png": "[encoded data removed]",
      "text/plain": [
       "<Figure size 1000x700 with 2 Axes>"
      ]
     },
     "metadata": {},
     "output_type": "display_data"
    }
   ],
   "source": [
    "print(classification_report(y, y_hat))\n",
    "\n",
    "binary_conf_mat  = confusion_matrix(y, y_hat)\n",
    "\n",
    "\n",
    "plt.figure(figsize=(10, 7))\n",
    "sns.heatmap(binary_conf_mat , annot=True, fmt='g', cmap='Blues')\n",
    "plt.title(\"Class Confusion Matrix\")\n",
    "plt.xlabel(\"Predicted Label\")\n",
    "plt.ylabel(\"True Label\")\n",
    "\n",
    "\n",
    "ax = plt.gca()  \n",
    "for i in range(binary_conf_mat.shape[0]):\n",
    "    for j in range(binary_conf_mat.shape[1]):\n",
    "        text = format(binary_conf_mat [i, j], 'd')\n",
    "        ax.text(j+0.5, i+0.5, text, ha=\"center\", va=\"center\", \n",
    "                color=\"white\" if binary_conf_mat [i, j] > binary_conf_mat .max() / 2 else \"black\")\n",
    "\n",
    "plt.show()"
   ]
  }
 ],
 "metadata": {
  "kernelspec": {
   "display_name": "stat_env",
   "language": "python",
   "name": "python3"
  },
  "language_info": {
   "codemirror_mode": {
    "name": "ipython",
    "version": 3
   },
   "file_extension": ".py",
   "mimetype": "text/x-python",
   "name": "python",
   "nbconvert_exporter": "python",
   "pygments_lexer": "ipython3",
   "version": "3.11.5"
  }
 },
 "nbformat": 4,
 "nbformat_minor": 2
}
